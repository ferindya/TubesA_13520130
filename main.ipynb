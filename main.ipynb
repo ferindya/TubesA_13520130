{
 "cells": [
  {
   "cell_type": "code",
   "execution_count": 130,
   "metadata": {},
   "outputs": [],
   "source": [
    "from src.input_json import file_name, open_json\n",
    "from src.ffnn import FFNN\n",
    "import numpy as np"
   ]
  },
  {
   "cell_type": "markdown",
   "metadata": {},
   "source": [
    "### Defining Forward Propagation Function"
   ]
  },
  {
   "cell_type": "code",
   "execution_count": 131,
   "metadata": {},
   "outputs": [],
   "source": [
    "def forward_propagation_ffnn(input_file_name):\n",
    "    checked_file_name = file_name(input_file_name)\n",
    "    case, expect = open_json(checked_file_name)\n",
    "    model = FFNN(case)\n",
    "    input = case.get(\"input\")\n",
    "    output = model.predict(input)\n",
    "    output_val = FFNN.output_value(output)\n",
    "    sse = FFNN.f_sse(output_val, expect.get(\"output\"))\n",
    "    return model, input, output, sse"
   ]
  },
  {
   "cell_type": "markdown",
   "metadata": {},
   "source": [
    "### Visualizing Model"
   ]
  },
  {
   "cell_type": "code",
   "execution_count": 132,
   "metadata": {},
   "outputs": [],
   "source": [
    "import matplotlib.pyplot as plt\n",
    "def visualize_model(model, input, name=''):\n",
    "    fig, ax = plt.subplots(figsize=(8, 4))\n",
    "\n",
    "    layer_sizes = [model.input_size] + list(model.layers.layer_sizes) + [model.layers.n_output]\n",
    "\n",
    "    for i, layer_size in enumerate(layer_sizes):\n",
    "        if len(layer_sizes) > 2 and i != len(layer_sizes)-1:\n",
    "            for j in range(int(layer_size)):\n",
    "                x = i / (len(layer_sizes) - 1)\n",
    "                y = (j + 1) / (layer_size + 1)\n",
    "\n",
    "                if i == 0:\n",
    "                    ax.scatter(x, y, color='blue', s=400)\n",
    "                    node_name = 'x'\n",
    "\n",
    "                    # Display node value\n",
    "                    ax.text(x, y, f'{input[j]:.2f}', ha='center', va='center', fontsize=8, color='white')\n",
    "\n",
    "                    # Display node name\n",
    "                    ax.text(x, y-0.05, f'{node_name}{j}', ha='center', va='center', fontsize=8, color='black')\n",
    "                else:\n",
    "                    ax.scatter(x, y, color='black', s=400)\n",
    "                    # Display node value\n",
    "                    if len(model.layers.layers[i-1].value) == 0:\n",
    "                        ax.text(x, y, f'-', ha='center', va='center', fontsize=8, color='white')\n",
    "                    else:\n",
    "                        ax.text(x, y, f'{model.layers.layers[i-1].value[j-1]:.2f}', ha='center', va='center', fontsize=8, color='white')\n",
    "\n",
    "                    # Display node name\n",
    "                    ax.text(x, y-0.05, f'h{model.layers.layers[i-1].node[j-1].name}', ha='center', va='center', fontsize=8, color='black')\n",
    "\n",
    "                    # Display activation function name\n",
    "                    if i != 0 and i != len(layer_sizes) - 2:\n",
    "                        if len(model.layers.layers[i-1].value) == 0:\n",
    "                            ax.text(x, y+0.05, f'-', ha='center', va='center', fontsize=8, color='black')\n",
    "                        else:\n",
    "                            ax.text(x, y+0.05, f'{model.layers.layers[i-1].activation_function_name}', ha='center', va='center', fontsize=8, color='black')\n",
    "\n",
    "        # Plot bias value\n",
    "        if i != len(layer_sizes) - 2:\n",
    "            bias_x = i / (len(layer_sizes) - 1)\n",
    "            bias_y = 0.0 \n",
    "            bias_value = model.layers.layers[i].bias\n",
    "            ax.scatter(bias_x, bias_y, color='grey', s=400) \n",
    "            ax.text(bias_x, bias_y, f'{bias_value:.2f}', ha='center', va='center', fontsize=8, color='white') \n",
    "\n",
    "    # Plot connections between neurons\n",
    "    for i in range(len(layer_sizes) - 2):\n",
    "        for j in range(int(layer_sizes[i])):\n",
    "            for k in range(int(layer_sizes[i])):\n",
    "                x_values = [i / (len(layer_sizes) - 1), (i + 1) / (len(layer_sizes) - 1)]\n",
    "                y_values = [(j + 1) / (layer_sizes[i] + 1), (k + 1) / (layer_sizes[i+1] + 1)]\n",
    "                ax.plot(x_values, y_values, color='black', linewidth=1)\n",
    "                ax.text((x_values[0]+x_values[1])/2, (y_values[0]+y_values[1])/2, f'{model.layers.layers[i-1].weight[j][k]:.2f}', ha='center', va='center', fontsize=8, color='black')\n",
    "\n",
    "\n",
    "    # Hide axes and set title\n",
    "    ax.axis('off')\n",
    "    ax.set_title(f'{name} Neural Network Diagram')\n",
    "\n",
    "    plt.show()"
   ]
  },
  {
   "cell_type": "code",
   "execution_count": 133,
   "metadata": {},
   "outputs": [],
   "source": [
    "def print_process(input_file_name):\n",
    "    this_model, this_input, this_output, this_sse = forward_propagation_ffnn(input_file_name)\n",
    "    for i in range(len(this_input)):\n",
    "        visualize_model(this_output[i], this_input[i], input_file_name)"
   ]
  },
  {
   "cell_type": "code",
   "execution_count": 134,
   "metadata": {},
   "outputs": [
    {
     "ename": "IndexError",
     "evalue": "list index out of range",
     "output_type": "error",
     "traceback": [
      "\u001b[0;31m---------------------------------------------------------------------------\u001b[0m",
      "\u001b[0;31mIndexError\u001b[0m                                Traceback (most recent call last)",
      "Cell \u001b[0;32mIn [134], line 1\u001b[0m\n\u001b[0;32m----> 1\u001b[0m \u001b[43mprint_process\u001b[49m\u001b[43m(\u001b[49m\u001b[38;5;124;43m'\u001b[39;49m\u001b[38;5;124;43mlinear.json\u001b[39;49m\u001b[38;5;124;43m'\u001b[39;49m\u001b[43m)\u001b[49m\n",
      "Cell \u001b[0;32mIn [133], line 4\u001b[0m, in \u001b[0;36mprint_process\u001b[0;34m(input_file_name)\u001b[0m\n\u001b[1;32m      2\u001b[0m this_model, this_input, this_output, this_sse \u001b[38;5;241m=\u001b[39m forward_propagation_ffnn(input_file_name)\n\u001b[1;32m      3\u001b[0m \u001b[38;5;28;01mfor\u001b[39;00m i \u001b[38;5;129;01min\u001b[39;00m \u001b[38;5;28mrange\u001b[39m(\u001b[38;5;28mlen\u001b[39m(this_input)):\n\u001b[0;32m----> 4\u001b[0m     \u001b[43mvisualize_model\u001b[49m\u001b[43m(\u001b[49m\u001b[43mthis_output\u001b[49m\u001b[43m[\u001b[49m\u001b[43mi\u001b[49m\u001b[43m]\u001b[49m\u001b[43m,\u001b[49m\u001b[43m \u001b[49m\u001b[43mthis_input\u001b[49m\u001b[43m[\u001b[49m\u001b[43mi\u001b[49m\u001b[43m]\u001b[49m\u001b[43m,\u001b[49m\u001b[43m \u001b[49m\u001b[43minput_file_name\u001b[49m\u001b[43m)\u001b[49m\n",
      "Cell \u001b[0;32mIn [132], line 44\u001b[0m, in \u001b[0;36mvisualize_model\u001b[0;34m(model, input, name)\u001b[0m\n\u001b[1;32m     42\u001b[0m bias_x \u001b[38;5;241m=\u001b[39m i \u001b[38;5;241m/\u001b[39m (\u001b[38;5;28mlen\u001b[39m(layer_sizes) \u001b[38;5;241m-\u001b[39m \u001b[38;5;241m1\u001b[39m)\n\u001b[1;32m     43\u001b[0m bias_y \u001b[38;5;241m=\u001b[39m \u001b[38;5;241m0.0\u001b[39m \n\u001b[0;32m---> 44\u001b[0m bias_value \u001b[38;5;241m=\u001b[39m \u001b[43mmodel\u001b[49m\u001b[38;5;241;43m.\u001b[39;49m\u001b[43mlayers\u001b[49m\u001b[38;5;241;43m.\u001b[39;49m\u001b[43mlayers\u001b[49m\u001b[43m[\u001b[49m\u001b[43mi\u001b[49m\u001b[43m \u001b[49m\u001b[38;5;241;43m-\u001b[39;49m\u001b[43m \u001b[49m\u001b[38;5;241;43m1\u001b[39;49m\u001b[43m]\u001b[49m\u001b[38;5;241m.\u001b[39mbias\n\u001b[1;32m     45\u001b[0m ax\u001b[38;5;241m.\u001b[39mscatter(bias_x, bias_y, color\u001b[38;5;241m=\u001b[39m\u001b[38;5;124m'\u001b[39m\u001b[38;5;124mgrey\u001b[39m\u001b[38;5;124m'\u001b[39m, s\u001b[38;5;241m=\u001b[39m\u001b[38;5;241m400\u001b[39m) \n\u001b[1;32m     46\u001b[0m ax\u001b[38;5;241m.\u001b[39mtext(bias_x, bias_y, \u001b[38;5;124mf\u001b[39m\u001b[38;5;124m'\u001b[39m\u001b[38;5;132;01m{\u001b[39;00mbias_value\u001b[38;5;132;01m:\u001b[39;00m\u001b[38;5;124m.2f\u001b[39m\u001b[38;5;132;01m}\u001b[39;00m\u001b[38;5;124m'\u001b[39m, ha\u001b[38;5;241m=\u001b[39m\u001b[38;5;124m'\u001b[39m\u001b[38;5;124mcenter\u001b[39m\u001b[38;5;124m'\u001b[39m, va\u001b[38;5;241m=\u001b[39m\u001b[38;5;124m'\u001b[39m\u001b[38;5;124mcenter\u001b[39m\u001b[38;5;124m'\u001b[39m, fontsize\u001b[38;5;241m=\u001b[39m\u001b[38;5;241m8\u001b[39m, color\u001b[38;5;241m=\u001b[39m\u001b[38;5;124m'\u001b[39m\u001b[38;5;124mwhite\u001b[39m\u001b[38;5;124m'\u001b[39m) \n",
      "\u001b[0;31mIndexError\u001b[0m: list index out of range"
     ]
    },
    {
     "data": {
      "image/png": "[encoded data removed]",
      "text/plain": [
       "<Figure size 800x400 with 1 Axes>"
      ]
     },
     "metadata": {},
     "output_type": "display_data"
    }
   ],
   "source": [
    "print_process('linear.json')"
   ]
  }
 ],
 "metadata": {
  "kernelspec": {
   "display_name": "base",
   "language": "python",
   "name": "python3"
  },
  "language_info": {
   "codemirror_mode": {
    "name": "ipython",
    "version": 3
   },
   "file_extension": ".py",
   "mimetype": "text/x-python",
   "name": "python",
   "nbconvert_exporter": "python",
   "pygments_lexer": "ipython3",
   "version": "3.9.12"
  }
 },
 "nbformat": 4,
 "nbformat_minor": 2
}
